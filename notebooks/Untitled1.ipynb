{
 "cells": [
  {
   "cell_type": "code",
   "execution_count": 128,
   "metadata": {},
   "outputs": [],
   "source": [
    "import os, os.path\n",
    "import pandas as pd\n",
    "import numpy as np\n",
    "\n",
    "data_dir = '../datasets/news-data'\n",
    "news = []\n",
    "\n",
    "for i, tsv_file in enumerate(os.listdir(data_dir)):\n",
    "    if not tsv_file.startswith('.'):\n",
    "        sample_url = os.path.join(data_dir, tsv_file)\n",
    "        sample = pd.read_csv(sample_url, sep='\\t', nrows=2000)\n",
    "        sample = [(j, i) for j in sample['title']]\n",
    "\n",
    "        if (i == 0):\n",
    "            news = sample\n",
    "        else: \n",
    "            news += sample\n",
    "\n",
    "\n",
    "            \n",
    "# sample = pd.read_csv('../datasets/news-data/breitbart.tsv', sep='\\t', nrows=2000)\n",
    "\n",
    "# sample = [(j, i) for j in sample['text']]\n",
    "# print(sample)    "
   ]
  },
  {
   "cell_type": "code",
   "execution_count": 135,
   "metadata": {},
   "outputs": [
    {
     "name": "stdout",
     "output_type": "stream",
     "text": [
      "[[ 0.  0.  0.  0.]\n",
      " [ 0.  0.  0.  0.]\n",
      " [ 0.  0.  0.  0.]]\n"
     ]
    }
   ],
   "source": [
    "a = np.array([1, 0, 3])\n",
    "\n",
    "a = np.array([1, 0, 3])\n",
    "b = np.zeros((3, 4))\n",
    "print(b)\n",
    "b[np.arange(3), a] = 1\n"
   ]
  },
  {
   "cell_type": "code",
   "execution_count": 137,
   "metadata": {},
   "outputs": [],
   "source": [
    "np.arange?"
   ]
  },
  {
   "cell_type": "code",
   "execution_count": null,
   "metadata": {
    "collapsed": true
   },
   "outputs": [],
   "source": []
  }
 ],
 "metadata": {
  "kernelspec": {
   "display_name": "Python 2",
   "language": "python",
   "name": "python2"
  },
  "language_info": {
   "codemirror_mode": {
    "name": "ipython",
    "version": 2
   },
   "file_extension": ".py",
   "mimetype": "text/x-python",
   "name": "python",
   "nbconvert_exporter": "python",
   "pygments_lexer": "ipython2",
   "version": "2.7.10"
  }
 },
 "nbformat": 4,
 "nbformat_minor": 2
}
