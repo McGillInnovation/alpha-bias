{
 "cells": [
  {
   "cell_type": "code",
   "execution_count": 2,
   "metadata": {},
   "outputs": [
    {
     "data": {
      "text/html": [
       "<div>\n",
       "<style>\n",
       "    .dataframe thead tr:only-child th {\n",
       "        text-align: right;\n",
       "    }\n",
       "\n",
       "    .dataframe thead th {\n",
       "        text-align: left;\n",
       "    }\n",
       "\n",
       "    .dataframe tbody tr th {\n",
       "        vertical-align: top;\n",
       "    }\n",
       "</style>\n",
       "<table border=\"1\" class=\"dataframe\">\n",
       "  <thead>\n",
       "    <tr style=\"text-align: right;\">\n",
       "      <th></th>\n",
       "      <th>hanok traditions inspire modern korean design</th>\n",
       "      <th>(cnn south korea may be known for its sharp focus on the new but architects and their increasingly sophisticated clients are looking to the past for inspiration once a familiar</th>\n",
       "    </tr>\n",
       "  </thead>\n",
       "  <tbody>\n",
       "    <tr>\n",
       "      <th>0</th>\n",
       "      <td>marketplace middle east</td>\n",
       "      <td>our terms of service and privacy policy have c...</td>\n",
       "    </tr>\n",
       "    <tr>\n",
       "      <th>1</th>\n",
       "      <td>critics abound for kelly interview with jones</td>\n",
       "      <td>chat with us in facebook messenger find out wh...</td>\n",
       "    </tr>\n",
       "    <tr>\n",
       "      <th>2</th>\n",
       "      <td>concussion protocols not always followed at 20...</td>\n",
       "      <td>(cnn more than 3 billion people around the wor...</td>\n",
       "    </tr>\n",
       "    <tr>\n",
       "      <th>3</th>\n",
       "      <td>trump continues to take aim at obama legacy</td>\n",
       "      <td>president trump is unloading a barrage of atta...</td>\n",
       "    </tr>\n",
       "    <tr>\n",
       "      <th>4</th>\n",
       "      <td>a catholic reads the bible week 43</td>\n",
       "      <td>(cnn my father was known for his dry sense of ...</td>\n",
       "    </tr>\n",
       "  </tbody>\n",
       "</table>\n",
       "</div>"
      ],
      "text/plain": [
       "       hanok traditions inspire modern korean design  \\\n",
       "0                            marketplace middle east   \n",
       "1      critics abound for kelly interview with jones   \n",
       "2  concussion protocols not always followed at 20...   \n",
       "3        trump continues to take aim at obama legacy   \n",
       "4                 a catholic reads the bible week 43   \n",
       "\n",
       "  (cnn south korea may be known for its sharp focus on the new but architects and their increasingly sophisticated clients are looking to the past for inspiration once a familiar  \n",
       "0  our terms of service and privacy policy have c...                                                                                                                                \n",
       "1  chat with us in facebook messenger find out wh...                                                                                                                                \n",
       "2  (cnn more than 3 billion people around the wor...                                                                                                                                \n",
       "3  president trump is unloading a barrage of atta...                                                                                                                                \n",
       "4  (cnn my father was known for his dry sense of ...                                                                                                                                "
      ]
     },
     "execution_count": 2,
     "metadata": {},
     "output_type": "execute_result"
    }
   ],
   "source": [
    "import pandas as pd\n",
    "\n",
    "cnn = pd.read_csv(\"../cnn.tsv\", sep='\\t')\n",
    "\n",
    "cnn.head()"
   ]
  },
  {
   "cell_type": "code",
   "execution_count": null,
   "metadata": {
    "collapsed": true
   },
   "outputs": [],
   "source": []
  }
 ],
 "metadata": {
  "kernelspec": {
   "display_name": "Python 2",
   "language": "python",
   "name": "python2"
  },
  "language_info": {
   "codemirror_mode": {
    "name": "ipython",
    "version": 2
   },
   "file_extension": ".py",
   "mimetype": "text/x-python",
   "name": "python",
   "nbconvert_exporter": "python",
   "pygments_lexer": "ipython2",
   "version": "2.7.10"
  }
 },
 "nbformat": 4,
 "nbformat_minor": 2
}
